{
 "cells": [
  {
   "cell_type": "code",
   "execution_count": 1,
   "id": "f20f26b6-1d37-4770-b877-7a3e5be82180",
   "metadata": {},
   "outputs": [],
   "source": [
    "import numpy as np\n",
    "import matplotlib.pyplot as plt\n",
    "import pandas as pd\n",
    "from tqdm import tqdm"
   ]
  },
  {
   "cell_type": "code",
   "execution_count": 2,
   "id": "3b8df096-b8a2-4f16-af00-ad040690348d",
   "metadata": {},
   "outputs": [],
   "source": [
    "# !head -n 10 /mare/candumps/candump-2024-10-05_094603.json | jq ."
   ]
  },
  {
   "cell_type": "code",
   "execution_count": 23,
   "id": "9a644b36-6da2-4b46-bd36-7e8068d7b480",
   "metadata": {},
   "outputs": [
    {
     "name": "stdout",
     "output_type": "stream",
     "text": [
      "1632: value False, \n",
      "1730: value False, \n",
      "5556: current {'ampere': 1.99169921875}, \n",
      "5557: current {'ampere': 1.99169921875}, \n",
      "5558: current {'ampere': 1.1279296875}, \n",
      "5559: current {'ampere': 1.1279296875}, \n",
      "5052: timestamp {'microsecond': 0}, valve {'kelvin': 0.0}, module {'kelvin': 0.0}, mcu {'kelvin': 0.0}, current {'ampere': 0.0}, voltage {'volt': 0.0}, \n",
      "5051: timestamp {'microsecond': 0}, valve {'kelvin': 0.0}, module {'kelvin': 0.0}, mcu {'kelvin': 0.0}, current {'ampere': 0.0}, voltage {'volt': 0.0}, \n",
      "5054: timestamp {'microsecond': 0}, valve {'kelvin': 0.0}, module {'kelvin': 0.0}, mcu {'kelvin': 0.0}, current {'ampere': 0.0}, voltage {'volt': 0.0}, \n",
      "5053: timestamp {'microsecond': 0}, valve {'kelvin': 0.0}, module {'kelvin': 0.0}, mcu {'kelvin': 0.0}, current {'ampere': 0.0}, voltage {'volt': 0.0}, \n"
     ]
    }
   ],
   "source": [
    "import json\n",
    "\n",
    "with open('/mare/candumps/candump-2024-10-05_094603.json') as f:\n",
    "    for i in range(10):\n",
    "        s = f.readline()\n",
    "        # print(s)\n",
    "        d = json.loads(s)\n",
    "        # print(dir(d), d)\n",
    "        m = d['_meta_']\n",
    "        for key in m:\n",
    "           ...\n",
    "           # print(key)\n",
    "        print(m['subject_id'], end=': ')\n",
    "\n",
    "        for pay in d:\n",
    "            if pay == '_meta_':\n",
    "                continue\n",
    "            print(pay, d[pay], end=', ')\n",
    "        print()"
   ]
  },
  {
   "cell_type": "code",
   "execution_count": 4,
   "id": "e35138ba-41ef-45af-a073-c183e4df1422",
   "metadata": {},
   "outputs": [
    {
     "name": "stderr",
     "output_type": "stream",
     "text": [
      "  0%|                                                                                                                                                                  | 0/537514 [00:00<?, ?it/s]\n"
     ]
    },
    {
     "ename": "NameError",
     "evalue": "name 'df_row' is not defined",
     "output_type": "error",
     "traceback": [
      "\u001b[0;31m---------------------------------------------------------------------------\u001b[0m",
      "\u001b[0;31mNameError\u001b[0m                                 Traceback (most recent call last)",
      "Cell \u001b[0;32mIn[4], line 9\u001b[0m\n\u001b[1;32m      6\u001b[0m \u001b[38;5;28;01mfor\u001b[39;00m line \u001b[38;5;129;01min\u001b[39;00m tqdm(f\u001b[38;5;241m.\u001b[39mreadlines()):\n\u001b[1;32m      7\u001b[0m     row \u001b[38;5;241m=\u001b[39m \u001b[38;5;28meval\u001b[39m(line\u001b[38;5;241m.\u001b[39mstrip())\n\u001b[0;32m----> 9\u001b[0m     \u001b[38;5;28;01mif\u001b[39;00m \u001b[43mdf_row\u001b[49m \u001b[38;5;241m==\u001b[39m {}:\n\u001b[1;32m     10\u001b[0m       df_row[\u001b[38;5;124m'\u001b[39m\u001b[38;5;124mts\u001b[39m\u001b[38;5;124m'\u001b[39m] \u001b[38;5;241m=\u001b[39m row[\u001b[38;5;124m'\u001b[39m\u001b[38;5;124mts\u001b[39m\u001b[38;5;124m'\u001b[39m]\n\u001b[1;32m     12\u001b[0m     corner \u001b[38;5;241m=\u001b[39m row[\u001b[38;5;124m'\u001b[39m\u001b[38;5;124mid\u001b[39m\u001b[38;5;124m'\u001b[39m]\n",
      "\u001b[0;31mNameError\u001b[0m: name 'df_row' is not defined"
     ]
    }
   ],
   "source": [
    "# data = []\n",
    "# df_row = {}\n",
    "# LAST_CORNER = 2377\n",
    "\n",
    "with open('linpots.json', 'r') as f:\n",
    "    for line in tqdm(f.readlines()):\n",
    "        row = eval(line.strip())\n",
    "\n",
    "        if df_row == {}:\n",
    "          df_row['ts'] = row['ts']\n",
    "\n",
    "        corner = row['id']\n",
    "        df_row[corner] = row['meter']\n",
    "\n",
    "        if corner == LAST_CORNER:\n",
    "          data.append(df_row)\n",
    "          df_row = {}\n",
    "\n",
    "# df = pd.DataFrame(data)\n",
    "# df.columns = ['ts', 'FL', 'FR', 'RL', 'RR']\n",
    "# df['ts'] -= df['ts'].min()\n",
    "# # df['ts'] = pd.to_datetime(df['ts'])\n",
    "# df"
   ]
  }
 ],
 "metadata": {
  "kernelspec": {
   "display_name": "Python 3 (ipykernel)",
   "language": "python",
   "name": "python3"
  },
  "language_info": {
   "codemirror_mode": {
    "name": "ipython",
    "version": 3
   },
   "file_extension": ".py",
   "mimetype": "text/x-python",
   "name": "python",
   "nbconvert_exporter": "python",
   "pygments_lexer": "ipython3",
   "version": "3.10.12"
  }
 },
 "nbformat": 4,
 "nbformat_minor": 5
}
